{
  "nbformat": 4,
  "nbformat_minor": 0,
  "metadata": {
    "colab": {
      "provenance": [],
      "collapsed_sections": [],
      "authorship_tag": "ABX9TyNQrXSXCVdqOKnVTybdf91s",
      "include_colab_link": true
    },
    "kernelspec": {
      "name": "python3",
      "display_name": "Python 3"
    },
    "language_info": {
      "name": "python"
    }
  },
  "cells": [
    {
      "cell_type": "markdown",
      "metadata": {
        "id": "view-in-github",
        "colab_type": "text"
      },
      "source": [
        "<a href=\"https://colab.research.google.com/github/seo-jeong-bang/like_code/blob/main/%EB%8B%B9%EB%87%A8%EB%B3%91_%EB%B6%84%EC%84%9D_%EB%B0%8F_%EB%AA%A8%EB%8D%B8%EB%A7%81.ipynb\" target=\"_parent\"><img src=\"https://colab.research.google.com/assets/colab-badge.svg\" alt=\"Open In Colab\"/></a>"
      ]
    },
    {
      "cell_type": "code",
      "execution_count": 9,
      "metadata": {
        "id": "lnaCOD19PKcx"
      },
      "outputs": [],
      "source": [
        "import numpy as np\n",
        "import pandas as pd\n",
        "\n",
        "\n",
        "import matplotlib.pyplot as plt\n",
        "import seaborn as sns\n",
        "import plotly.express as px\n",
        "\n",
        "%matplotlib inline\n",
        "\n",
        "\n",
        "\n",
        "pd.set_option(\"display.max_columns\", None)\n",
        "pd.set_option(\"display.max_colwidth\", None)\n",
        "\n",
        "plt.style.use(\"seaborn\")"
      ]
    },
    {
      "cell_type": "code",
      "source": [
        "#데이터 살펴보기\n",
        "import pandas as pd\n",
        "df = pd.read_csv('diabetes.csv')"
      ],
      "metadata": {
        "id": "q2Ay_jz6UaDJ"
      },
      "execution_count": 2,
      "outputs": []
    },
    {
      "cell_type": "code",
      "source": [
        "df.head()"
      ],
      "metadata": {
        "colab": {
          "base_uri": "https://localhost:8080/",
          "height": 206
        },
        "id": "jnOGI4XlUf_Y",
        "outputId": "436bb700-e83a-4f4e-e2a9-59021a1fe563"
      },
      "execution_count": 3,
      "outputs": [
        {
          "output_type": "execute_result",
          "data": {
            "text/plain": [
              "   Pregnancies  Glucose  BloodPressure  SkinThickness  Insulin   BMI  \\\n",
              "0            6      148             72             35        0  33.6   \n",
              "1            1       85             66             29        0  26.6   \n",
              "2            8      183             64              0        0  23.3   \n",
              "3            1       89             66             23       94  28.1   \n",
              "4            0      137             40             35      168  43.1   \n",
              "\n",
              "   DiabetesPedigreeFunction  Age  Outcome  \n",
              "0                     0.627   50        1  \n",
              "1                     0.351   31        0  \n",
              "2                     0.672   32        1  \n",
              "3                     0.167   21        0  \n",
              "4                     2.288   33        1  "
            ],
            "text/html": [
              "\n",
              "  <div id=\"df-eb45dd42-7fa5-4807-8b80-50bd03909742\">\n",
              "    <div class=\"colab-df-container\">\n",
              "      <div>\n",
              "<style scoped>\n",
              "    .dataframe tbody tr th:only-of-type {\n",
              "        vertical-align: middle;\n",
              "    }\n",
              "\n",
              "    .dataframe tbody tr th {\n",
              "        vertical-align: top;\n",
              "    }\n",
              "\n",
              "    .dataframe thead th {\n",
              "        text-align: right;\n",
              "    }\n",
              "</style>\n",
              "<table border=\"1\" class=\"dataframe\">\n",
              "  <thead>\n",
              "    <tr style=\"text-align: right;\">\n",
              "      <th></th>\n",
              "      <th>Pregnancies</th>\n",
              "      <th>Glucose</th>\n",
              "      <th>BloodPressure</th>\n",
              "      <th>SkinThickness</th>\n",
              "      <th>Insulin</th>\n",
              "      <th>BMI</th>\n",
              "      <th>DiabetesPedigreeFunction</th>\n",
              "      <th>Age</th>\n",
              "      <th>Outcome</th>\n",
              "    </tr>\n",
              "  </thead>\n",
              "  <tbody>\n",
              "    <tr>\n",
              "      <th>0</th>\n",
              "      <td>6</td>\n",
              "      <td>148</td>\n",
              "      <td>72</td>\n",
              "      <td>35</td>\n",
              "      <td>0</td>\n",
              "      <td>33.6</td>\n",
              "      <td>0.627</td>\n",
              "      <td>50</td>\n",
              "      <td>1</td>\n",
              "    </tr>\n",
              "    <tr>\n",
              "      <th>1</th>\n",
              "      <td>1</td>\n",
              "      <td>85</td>\n",
              "      <td>66</td>\n",
              "      <td>29</td>\n",
              "      <td>0</td>\n",
              "      <td>26.6</td>\n",
              "      <td>0.351</td>\n",
              "      <td>31</td>\n",
              "      <td>0</td>\n",
              "    </tr>\n",
              "    <tr>\n",
              "      <th>2</th>\n",
              "      <td>8</td>\n",
              "      <td>183</td>\n",
              "      <td>64</td>\n",
              "      <td>0</td>\n",
              "      <td>0</td>\n",
              "      <td>23.3</td>\n",
              "      <td>0.672</td>\n",
              "      <td>32</td>\n",
              "      <td>1</td>\n",
              "    </tr>\n",
              "    <tr>\n",
              "      <th>3</th>\n",
              "      <td>1</td>\n",
              "      <td>89</td>\n",
              "      <td>66</td>\n",
              "      <td>23</td>\n",
              "      <td>94</td>\n",
              "      <td>28.1</td>\n",
              "      <td>0.167</td>\n",
              "      <td>21</td>\n",
              "      <td>0</td>\n",
              "    </tr>\n",
              "    <tr>\n",
              "      <th>4</th>\n",
              "      <td>0</td>\n",
              "      <td>137</td>\n",
              "      <td>40</td>\n",
              "      <td>35</td>\n",
              "      <td>168</td>\n",
              "      <td>43.1</td>\n",
              "      <td>2.288</td>\n",
              "      <td>33</td>\n",
              "      <td>1</td>\n",
              "    </tr>\n",
              "  </tbody>\n",
              "</table>\n",
              "</div>\n",
              "      <button class=\"colab-df-convert\" onclick=\"convertToInteractive('df-eb45dd42-7fa5-4807-8b80-50bd03909742')\"\n",
              "              title=\"Convert this dataframe to an interactive table.\"\n",
              "              style=\"display:none;\">\n",
              "        \n",
              "  <svg xmlns=\"http://www.w3.org/2000/svg\" height=\"24px\"viewBox=\"0 0 24 24\"\n",
              "       width=\"24px\">\n",
              "    <path d=\"M0 0h24v24H0V0z\" fill=\"none\"/>\n",
              "    <path d=\"M18.56 5.44l.94 2.06.94-2.06 2.06-.94-2.06-.94-.94-2.06-.94 2.06-2.06.94zm-11 1L8.5 8.5l.94-2.06 2.06-.94-2.06-.94L8.5 2.5l-.94 2.06-2.06.94zm10 10l.94 2.06.94-2.06 2.06-.94-2.06-.94-.94-2.06-.94 2.06-2.06.94z\"/><path d=\"M17.41 7.96l-1.37-1.37c-.4-.4-.92-.59-1.43-.59-.52 0-1.04.2-1.43.59L10.3 9.45l-7.72 7.72c-.78.78-.78 2.05 0 2.83L4 21.41c.39.39.9.59 1.41.59.51 0 1.02-.2 1.41-.59l7.78-7.78 2.81-2.81c.8-.78.8-2.07 0-2.86zM5.41 20L4 18.59l7.72-7.72 1.47 1.35L5.41 20z\"/>\n",
              "  </svg>\n",
              "      </button>\n",
              "      \n",
              "  <style>\n",
              "    .colab-df-container {\n",
              "      display:flex;\n",
              "      flex-wrap:wrap;\n",
              "      gap: 12px;\n",
              "    }\n",
              "\n",
              "    .colab-df-convert {\n",
              "      background-color: #E8F0FE;\n",
              "      border: none;\n",
              "      border-radius: 50%;\n",
              "      cursor: pointer;\n",
              "      display: none;\n",
              "      fill: #1967D2;\n",
              "      height: 32px;\n",
              "      padding: 0 0 0 0;\n",
              "      width: 32px;\n",
              "    }\n",
              "\n",
              "    .colab-df-convert:hover {\n",
              "      background-color: #E2EBFA;\n",
              "      box-shadow: 0px 1px 2px rgba(60, 64, 67, 0.3), 0px 1px 3px 1px rgba(60, 64, 67, 0.15);\n",
              "      fill: #174EA6;\n",
              "    }\n",
              "\n",
              "    [theme=dark] .colab-df-convert {\n",
              "      background-color: #3B4455;\n",
              "      fill: #D2E3FC;\n",
              "    }\n",
              "\n",
              "    [theme=dark] .colab-df-convert:hover {\n",
              "      background-color: #434B5C;\n",
              "      box-shadow: 0px 1px 3px 1px rgba(0, 0, 0, 0.15);\n",
              "      filter: drop-shadow(0px 1px 2px rgba(0, 0, 0, 0.3));\n",
              "      fill: #FFFFFF;\n",
              "    }\n",
              "  </style>\n",
              "\n",
              "      <script>\n",
              "        const buttonEl =\n",
              "          document.querySelector('#df-eb45dd42-7fa5-4807-8b80-50bd03909742 button.colab-df-convert');\n",
              "        buttonEl.style.display =\n",
              "          google.colab.kernel.accessAllowed ? 'block' : 'none';\n",
              "\n",
              "        async function convertToInteractive(key) {\n",
              "          const element = document.querySelector('#df-eb45dd42-7fa5-4807-8b80-50bd03909742');\n",
              "          const dataTable =\n",
              "            await google.colab.kernel.invokeFunction('convertToInteractive',\n",
              "                                                     [key], {});\n",
              "          if (!dataTable) return;\n",
              "\n",
              "          const docLinkHtml = 'Like what you see? Visit the ' +\n",
              "            '<a target=\"_blank\" href=https://colab.research.google.com/notebooks/data_table.ipynb>data table notebook</a>'\n",
              "            + ' to learn more about interactive tables.';\n",
              "          element.innerHTML = '';\n",
              "          dataTable['output_type'] = 'display_data';\n",
              "          await google.colab.output.renderOutput(dataTable, element);\n",
              "          const docLink = document.createElement('div');\n",
              "          docLink.innerHTML = docLinkHtml;\n",
              "          element.appendChild(docLink);\n",
              "        }\n",
              "      </script>\n",
              "    </div>\n",
              "  </div>\n",
              "  "
            ]
          },
          "metadata": {},
          "execution_count": 3
        }
      ]
    },
    {
      "cell_type": "code",
      "source": [
        "df.shape"
      ],
      "metadata": {
        "colab": {
          "base_uri": "https://localhost:8080/"
        },
        "id": "K3zDWEgzUpYC",
        "outputId": "b7b77ae1-210a-448b-e72e-25300aa5817c"
      },
      "execution_count": 4,
      "outputs": [
        {
          "output_type": "execute_result",
          "data": {
            "text/plain": [
              "(768, 9)"
            ]
          },
          "metadata": {},
          "execution_count": 4
        }
      ]
    },
    {
      "cell_type": "code",
      "source": [
        "df.info()"
      ],
      "metadata": {
        "colab": {
          "base_uri": "https://localhost:8080/"
        },
        "id": "OFXn7G7CUwFE",
        "outputId": "7fe81ffe-5d5c-4152-a425-fd119f24eff5"
      },
      "execution_count": 5,
      "outputs": [
        {
          "output_type": "stream",
          "name": "stdout",
          "text": [
            "<class 'pandas.core.frame.DataFrame'>\n",
            "RangeIndex: 768 entries, 0 to 767\n",
            "Data columns (total 9 columns):\n",
            " #   Column                    Non-Null Count  Dtype  \n",
            "---  ------                    --------------  -----  \n",
            " 0   Pregnancies               768 non-null    int64  \n",
            " 1   Glucose                   768 non-null    int64  \n",
            " 2   BloodPressure             768 non-null    int64  \n",
            " 3   SkinThickness             768 non-null    int64  \n",
            " 4   Insulin                   768 non-null    int64  \n",
            " 5   BMI                       768 non-null    float64\n",
            " 6   DiabetesPedigreeFunction  768 non-null    float64\n",
            " 7   Age                       768 non-null    int64  \n",
            " 8   Outcome                   768 non-null    int64  \n",
            "dtypes: float64(2), int64(7)\n",
            "memory usage: 54.1 KB\n"
          ]
        }
      ]
    },
    {
      "cell_type": "code",
      "source": [
        "df['Outcome'].value_counts()"
      ],
      "metadata": {
        "colab": {
          "base_uri": "https://localhost:8080/"
        },
        "id": "4RKXFbQSU5oM",
        "outputId": "21cf75fd-8cda-40a9-ebc5-c9bddd2b59bb"
      },
      "execution_count": 6,
      "outputs": [
        {
          "output_type": "execute_result",
          "data": {
            "text/plain": [
              "0    500\n",
              "1    268\n",
              "Name: Outcome, dtype: int64"
            ]
          },
          "metadata": {},
          "execution_count": 6
        }
      ]
    },
    {
      "cell_type": "code",
      "source": [
        "df.corr()[\"Outcome\"].sort_values()\n",
        "\n",
        "#글루코스와 당뇨가 가장 연관도가 높다는 것을 알 수 있다."
      ],
      "metadata": {
        "id": "d3Mt2KKBWSVe",
        "colab": {
          "base_uri": "https://localhost:8080/"
        },
        "outputId": "7a581b9c-5299-4c48-b0ba-0ea5c4786da5"
      },
      "execution_count": 7,
      "outputs": [
        {
          "output_type": "execute_result",
          "data": {
            "text/plain": [
              "BloodPressure               0.065068\n",
              "SkinThickness               0.074752\n",
              "Insulin                     0.130548\n",
              "DiabetesPedigreeFunction    0.173844\n",
              "Pregnancies                 0.221898\n",
              "Age                         0.238356\n",
              "BMI                         0.292695\n",
              "Glucose                     0.466581\n",
              "Outcome                     1.000000\n",
              "Name: Outcome, dtype: float64"
            ]
          },
          "metadata": {},
          "execution_count": 7
        }
      ]
    },
    {
      "cell_type": "code",
      "source": [
        "sns.heatmap(df.corr(), annot = True)\n",
        "plt.show()"
      ],
      "metadata": {
        "colab": {
          "base_uri": "https://localhost:8080/",
          "height": 459
        },
        "id": "IpfaaskWenpr",
        "outputId": "b4e7db63-cbdf-4799-c751-4ac00d7fbf6d"
      },
      "execution_count": 10,
      "outputs": [
        {
          "output_type": "display_data",
          "data": {
            "text/plain": [
              "<Figure size 576x396 with 2 Axes>"
            ],
            "image/png": "[encoded data removed]"
          },
          "metadata": {}
        }
      ]
    },
    {
      "cell_type": "code",
      "source": [
        "df.hist(bins=50,figsize=(20,15))\n",
        "plt.show()"
      ],
      "metadata": {
        "colab": {
          "base_uri": "https://localhost:8080/",
          "height": 878
        },
        "id": "m8UyacGOWoew",
        "outputId": "a232357a-ba74-401f-bb96-d5703d4495da"
      },
      "execution_count": 51,
      "outputs": [
        {
          "output_type": "display_data",
          "data": {
            "text/plain": [
              "<Figure size 1440x1080 with 9 Axes>"
            ],
            "image/png": "[encoded data removed]"
          },
          "metadata": {}
        }
      ]
    },
    {
      "cell_type": "code",
      "source": [
        "#막대그래프를 살펴보니 0에서 시작하는 데이터들이 많아서 이 데이터를 개수를 알아보았다.\n",
        "cols = [\"Glucose\", \"BloodPressure\", \"SkinThickness\", \"Insulin\", \"BMI\"]\n",
        "for col in cols:\n",
        "    print(f\" {col} 의 0 개수는: {df[col].value_counts()[0]}\")"
      ],
      "metadata": {
        "colab": {
          "base_uri": "https://localhost:8080/"
        },
        "id": "PqTbNypRbzUj",
        "outputId": "9ccfe484-4168-49b9-f934-0be96cd64247"
      },
      "execution_count": 12,
      "outputs": [
        {
          "output_type": "stream",
          "name": "stdout",
          "text": [
            " Glucose 의 0 개수는: 5\n",
            " BloodPressure 의 0 개수는: 35\n",
            " SkinThickness 의 0 개수는: 227\n",
            " Insulin 의 0 개수는: 374\n",
            " BMI 의 0 개수는: 11\n"
          ]
        }
      ]
    },
    {
      "cell_type": "code",
      "source": [
        "#데이터 값이 0인 데이터를 중앙값으로 대체하였다.\n",
        "for col in cols:\n",
        "    col_median =df[col].median()\n",
        "    df.loc[df[col] == 0, col] = col_median"
      ],
      "metadata": {
        "id": "_tH0l8vpcCig"
      },
      "execution_count": 48,
      "outputs": []
    },
    {
      "cell_type": "code",
      "source": [
        "df.describe()"
      ],
      "metadata": {
        "colab": {
          "base_uri": "https://localhost:8080/",
          "height": 300
        },
        "id": "xZJnA5Wyb8j8",
        "outputId": "9d19aa13-ff86-4432-d724-544ff666d4c1"
      },
      "execution_count": 49,
      "outputs": [
        {
          "output_type": "execute_result",
          "data": {
            "text/plain": [
              "       Pregnancies     Glucose  BloodPressure  SkinThickness     Insulin  \\\n",
              "count   768.000000  768.000000     768.000000     768.000000  768.000000   \n",
              "mean      3.845052  121.656250      72.386719      27.334635   94.652344   \n",
              "std       3.369578   30.438286      12.096642       9.229014  105.547598   \n",
              "min       0.000000   44.000000      24.000000       7.000000   14.000000   \n",
              "25%       1.000000   99.750000      64.000000      23.000000   30.500000   \n",
              "50%       3.000000  117.000000      72.000000      23.000000   31.250000   \n",
              "75%       6.000000  140.250000      80.000000      32.000000  127.250000   \n",
              "max      17.000000  199.000000     122.000000      99.000000  846.000000   \n",
              "\n",
              "              BMI  DiabetesPedigreeFunction         Age     Outcome  \n",
              "count  768.000000                768.000000  768.000000  768.000000  \n",
              "mean    32.450911                  0.471876   33.240885    0.348958  \n",
              "std      6.875366                  0.331329   11.760232    0.476951  \n",
              "min     18.200000                  0.078000   21.000000    0.000000  \n",
              "25%     27.500000                  0.243750   24.000000    0.000000  \n",
              "50%     32.000000                  0.372500   29.000000    0.000000  \n",
              "75%     36.600000                  0.626250   41.000000    1.000000  \n",
              "max     67.100000                  2.420000   81.000000    1.000000  "
            ],
            "text/html": [
              "\n",
              "  <div id=\"df-02f10152-c026-46b2-914e-1c3895b3b16a\">\n",
              "    <div class=\"colab-df-container\">\n",
              "      <div>\n",
              "<style scoped>\n",
              "    .dataframe tbody tr th:only-of-type {\n",
              "        vertical-align: middle;\n",
              "    }\n",
              "\n",
              "    .dataframe tbody tr th {\n",
              "        vertical-align: top;\n",
              "    }\n",
              "\n",
              "    .dataframe thead th {\n",
              "        text-align: right;\n",
              "    }\n",
              "</style>\n",
              "<table border=\"1\" class=\"dataframe\">\n",
              "  <thead>\n",
              "    <tr style=\"text-align: right;\">\n",
              "      <th></th>\n",
              "      <th>Pregnancies</th>\n",
              "      <th>Glucose</th>\n",
              "      <th>BloodPressure</th>\n",
              "      <th>SkinThickness</th>\n",
              "      <th>Insulin</th>\n",
              "      <th>BMI</th>\n",
              "      <th>DiabetesPedigreeFunction</th>\n",
              "      <th>Age</th>\n",
              "      <th>Outcome</th>\n",
              "    </tr>\n",
              "  </thead>\n",
              "  <tbody>\n",
              "    <tr>\n",
              "      <th>count</th>\n",
              "      <td>768.000000</td>\n",
              "      <td>768.000000</td>\n",
              "      <td>768.000000</td>\n",
              "      <td>768.000000</td>\n",
              "      <td>768.000000</td>\n",
              "      <td>768.000000</td>\n",
              "      <td>768.000000</td>\n",
              "      <td>768.000000</td>\n",
              "      <td>768.000000</td>\n",
              "    </tr>\n",
              "    <tr>\n",
              "      <th>mean</th>\n",
              "      <td>3.845052</td>\n",
              "      <td>121.656250</td>\n",
              "      <td>72.386719</td>\n",
              "      <td>27.334635</td>\n",
              "      <td>94.652344</td>\n",
              "      <td>32.450911</td>\n",
              "      <td>0.471876</td>\n",
              "      <td>33.240885</td>\n",
              "      <td>0.348958</td>\n",
              "    </tr>\n",
              "    <tr>\n",
              "      <th>std</th>\n",
              "      <td>3.369578</td>\n",
              "      <td>30.438286</td>\n",
              "      <td>12.096642</td>\n",
              "      <td>9.229014</td>\n",
              "      <td>105.547598</td>\n",
              "      <td>6.875366</td>\n",
              "      <td>0.331329</td>\n",
              "      <td>11.760232</td>\n",
              "      <td>0.476951</td>\n",
              "    </tr>\n",
              "    <tr>\n",
              "      <th>min</th>\n",
              "      <td>0.000000</td>\n",
              "      <td>44.000000</td>\n",
              "      <td>24.000000</td>\n",
              "      <td>7.000000</td>\n",
              "      <td>14.000000</td>\n",
              "      <td>18.200000</td>\n",
              "      <td>0.078000</td>\n",
              "      <td>21.000000</td>\n",
              "      <td>0.000000</td>\n",
              "    </tr>\n",
              "    <tr>\n",
              "      <th>25%</th>\n",
              "      <td>1.000000</td>\n",
              "      <td>99.750000</td>\n",
              "      <td>64.000000</td>\n",
              "      <td>23.000000</td>\n",
              "      <td>30.500000</td>\n",
              "      <td>27.500000</td>\n",
              "      <td>0.243750</td>\n",
              "      <td>24.000000</td>\n",
              "      <td>0.000000</td>\n",
              "    </tr>\n",
              "    <tr>\n",
              "      <th>50%</th>\n",
              "      <td>3.000000</td>\n",
              "      <td>117.000000</td>\n",
              "      <td>72.000000</td>\n",
              "      <td>23.000000</td>\n",
              "      <td>31.250000</td>\n",
              "      <td>32.000000</td>\n",
              "      <td>0.372500</td>\n",
              "      <td>29.000000</td>\n",
              "      <td>0.000000</td>\n",
              "    </tr>\n",
              "    <tr>\n",
              "      <th>75%</th>\n",
              "      <td>6.000000</td>\n",
              "      <td>140.250000</td>\n",
              "      <td>80.000000</td>\n",
              "      <td>32.000000</td>\n",
              "      <td>127.250000</td>\n",
              "      <td>36.600000</td>\n",
              "      <td>0.626250</td>\n",
              "      <td>41.000000</td>\n",
              "      <td>1.000000</td>\n",
              "    </tr>\n",
              "    <tr>\n",
              "      <th>max</th>\n",
              "      <td>17.000000</td>\n",
              "      <td>199.000000</td>\n",
              "      <td>122.000000</td>\n",
              "      <td>99.000000</td>\n",
              "      <td>846.000000</td>\n",
              "      <td>67.100000</td>\n",
              "      <td>2.420000</td>\n",
              "      <td>81.000000</td>\n",
              "      <td>1.000000</td>\n",
              "    </tr>\n",
              "  </tbody>\n",
              "</table>\n",
              "</div>\n",
              "      <button class=\"colab-df-convert\" onclick=\"convertToInteractive('df-02f10152-c026-46b2-914e-1c3895b3b16a')\"\n",
              "              title=\"Convert this dataframe to an interactive table.\"\n",
              "              style=\"display:none;\">\n",
              "        \n",
              "  <svg xmlns=\"http://www.w3.org/2000/svg\" height=\"24px\"viewBox=\"0 0 24 24\"\n",
              "       width=\"24px\">\n",
              "    <path d=\"M0 0h24v24H0V0z\" fill=\"none\"/>\n",
              "    <path d=\"M18.56 5.44l.94 2.06.94-2.06 2.06-.94-2.06-.94-.94-2.06-.94 2.06-2.06.94zm-11 1L8.5 8.5l.94-2.06 2.06-.94-2.06-.94L8.5 2.5l-.94 2.06-2.06.94zm10 10l.94 2.06.94-2.06 2.06-.94-2.06-.94-.94-2.06-.94 2.06-2.06.94z\"/><path d=\"M17.41 7.96l-1.37-1.37c-.4-.4-.92-.59-1.43-.59-.52 0-1.04.2-1.43.59L10.3 9.45l-7.72 7.72c-.78.78-.78 2.05 0 2.83L4 21.41c.39.39.9.59 1.41.59.51 0 1.02-.2 1.41-.59l7.78-7.78 2.81-2.81c.8-.78.8-2.07 0-2.86zM5.41 20L4 18.59l7.72-7.72 1.47 1.35L5.41 20z\"/>\n",
              "  </svg>\n",
              "      </button>\n",
              "      \n",
              "  <style>\n",
              "    .colab-df-container {\n",
              "      display:flex;\n",
              "      flex-wrap:wrap;\n",
              "      gap: 12px;\n",
              "    }\n",
              "\n",
              "    .colab-df-convert {\n",
              "      background-color: #E8F0FE;\n",
              "      border: none;\n",
              "      border-radius: 50%;\n",
              "      cursor: pointer;\n",
              "      display: none;\n",
              "      fill: #1967D2;\n",
              "      height: 32px;\n",
              "      padding: 0 0 0 0;\n",
              "      width: 32px;\n",
              "    }\n",
              "\n",
              "    .colab-df-convert:hover {\n",
              "      background-color: #E2EBFA;\n",
              "      box-shadow: 0px 1px 2px rgba(60, 64, 67, 0.3), 0px 1px 3px 1px rgba(60, 64, 67, 0.15);\n",
              "      fill: #174EA6;\n",
              "    }\n",
              "\n",
              "    [theme=dark] .colab-df-convert {\n",
              "      background-color: #3B4455;\n",
              "      fill: #D2E3FC;\n",
              "    }\n",
              "\n",
              "    [theme=dark] .colab-df-convert:hover {\n",
              "      background-color: #434B5C;\n",
              "      box-shadow: 0px 1px 3px 1px rgba(0, 0, 0, 0.15);\n",
              "      filter: drop-shadow(0px 1px 2px rgba(0, 0, 0, 0.3));\n",
              "      fill: #FFFFFF;\n",
              "    }\n",
              "  </style>\n",
              "\n",
              "      <script>\n",
              "        const buttonEl =\n",
              "          document.querySelector('#df-02f10152-c026-46b2-914e-1c3895b3b16a button.colab-df-convert');\n",
              "        buttonEl.style.display =\n",
              "          google.colab.kernel.accessAllowed ? 'block' : 'none';\n",
              "\n",
              "        async function convertToInteractive(key) {\n",
              "          const element = document.querySelector('#df-02f10152-c026-46b2-914e-1c3895b3b16a');\n",
              "          const dataTable =\n",
              "            await google.colab.kernel.invokeFunction('convertToInteractive',\n",
              "                                                     [key], {});\n",
              "          if (!dataTable) return;\n",
              "\n",
              "          const docLinkHtml = 'Like what you see? Visit the ' +\n",
              "            '<a target=\"_blank\" href=https://colab.research.google.com/notebooks/data_table.ipynb>data table notebook</a>'\n",
              "            + ' to learn more about interactive tables.';\n",
              "          element.innerHTML = '';\n",
              "          dataTable['output_type'] = 'display_data';\n",
              "          await google.colab.output.renderOutput(dataTable, element);\n",
              "          const docLink = document.createElement('div');\n",
              "          docLink.innerHTML = docLinkHtml;\n",
              "          element.appendChild(docLink);\n",
              "        }\n",
              "      </script>\n",
              "    </div>\n",
              "  </div>\n",
              "  "
            ]
          },
          "metadata": {},
          "execution_count": 49
        }
      ]
    },
    {
      "cell_type": "code",
      "source": [
        "#fig, ax = plt.subplots (3,3, figsize=(20,15))\n",
        "#for i, column in enumerate (df.columns):\n",
        "    #sns.boxplot(data = df, x = column, ax=ax[(i//3),i-(i//3)*3])\n"
      ],
      "metadata": {
        "id": "3ZC_u0IZZolM"
      },
      "execution_count": 15,
      "outputs": []
    },
    {
      "cell_type": "code",
      "source": [
        "#테스트 세트 만들기\n",
        "\n",
        "x= df.drop(columns=['Outcome'],axis=1)\n",
        "y=df['Outcome']"
      ],
      "metadata": {
        "id": "0Q9NVBjYYgSO"
      },
      "execution_count": 16,
      "outputs": []
    },
    {
      "cell_type": "code",
      "source": [
        "print(x)"
      ],
      "metadata": {
        "colab": {
          "base_uri": "https://localhost:8080/"
        },
        "id": "m6W2pE50ZCUX",
        "outputId": "478b3b92-db67-484f-b1a2-e80422c7961b"
      },
      "execution_count": 17,
      "outputs": [
        {
          "output_type": "stream",
          "name": "stdout",
          "text": [
            "     Pregnancies  Glucose  BloodPressure  SkinThickness  Insulin   BMI  \\\n",
            "0              6      148             72             35        0  33.6   \n",
            "1              1       85             66             29        0  26.6   \n",
            "2              8      183             64              0        0  23.3   \n",
            "3              1       89             66             23       94  28.1   \n",
            "4              0      137             40             35      168  43.1   \n",
            "..           ...      ...            ...            ...      ...   ...   \n",
            "763           10      101             76             48      180  32.9   \n",
            "764            2      122             70             27        0  36.8   \n",
            "765            5      121             72             23      112  26.2   \n",
            "766            1      126             60              0        0  30.1   \n",
            "767            1       93             70             31        0  30.4   \n",
            "\n",
            "     DiabetesPedigreeFunction  Age  \n",
            "0                       0.627   50  \n",
            "1                       0.351   31  \n",
            "2                       0.672   32  \n",
            "3                       0.167   21  \n",
            "4                       2.288   33  \n",
            "..                        ...  ...  \n",
            "763                     0.171   63  \n",
            "764                     0.340   27  \n",
            "765                     0.245   30  \n",
            "766                     0.349   47  \n",
            "767                     0.315   23  \n",
            "\n",
            "[768 rows x 8 columns]\n"
          ]
        }
      ]
    },
    {
      "cell_type": "code",
      "source": [
        "from sklearn.preprocessing import StandardScaler\n",
        "scaler = StandardScaler()"
      ],
      "metadata": {
        "id": "FV40xOEdnk--"
      },
      "execution_count": 18,
      "outputs": []
    },
    {
      "cell_type": "code",
      "source": [
        "scaler.fit(x)"
      ],
      "metadata": {
        "id": "FrRRPiw9n8jg"
      },
      "execution_count": null,
      "outputs": []
    },
    {
      "cell_type": "code",
      "source": [
        "standarized_data = scaler.transform(x)"
      ],
      "metadata": {
        "id": "xAjVAmoqn_1a"
      },
      "execution_count": 20,
      "outputs": []
    },
    {
      "cell_type": "code",
      "source": [
        "print(standarized_data)"
      ],
      "metadata": {
        "colab": {
          "base_uri": "https://localhost:8080/"
        },
        "id": "h45OBSt3oD98",
        "outputId": "2aee2a9f-f4b9-4dc0-9ecc-96f6cb9a216e"
      },
      "execution_count": 21,
      "outputs": [
        {
          "output_type": "stream",
          "name": "stdout",
          "text": [
            "[[ 0.63994726  0.84832379  0.14964075 ...  0.20401277  0.46849198\n",
            "   1.4259954 ]\n",
            " [-0.84488505 -1.12339636 -0.16054575 ... -0.68442195 -0.36506078\n",
            "  -0.19067191]\n",
            " [ 1.23388019  1.94372388 -0.26394125 ... -1.10325546  0.60439732\n",
            "  -0.10558415]\n",
            " ...\n",
            " [ 0.3429808   0.00330087  0.14964075 ... -0.73518964 -0.68519336\n",
            "  -0.27575966]\n",
            " [-0.84488505  0.1597866  -0.47073225 ... -0.24020459 -0.37110101\n",
            "   1.17073215]\n",
            " [-0.84488505 -0.8730192   0.04624525 ... -0.20212881 -0.47378505\n",
            "  -0.87137393]]\n"
          ]
        }
      ]
    },
    {
      "cell_type": "code",
      "source": [
        "x=standarized_data\n",
        "y=df['Outcome']"
      ],
      "metadata": {
        "id": "42H42ErgoXOk"
      },
      "execution_count": 22,
      "outputs": []
    },
    {
      "cell_type": "code",
      "source": [
        "print(x)"
      ],
      "metadata": {
        "colab": {
          "base_uri": "https://localhost:8080/"
        },
        "id": "M8otXu9NpY05",
        "outputId": "cc02e1cd-ab9f-4fef-b4d6-a07f596750f8"
      },
      "execution_count": 23,
      "outputs": [
        {
          "output_type": "stream",
          "name": "stdout",
          "text": [
            "[[ 0.63994726  0.84832379  0.14964075 ...  0.20401277  0.46849198\n",
            "   1.4259954 ]\n",
            " [-0.84488505 -1.12339636 -0.16054575 ... -0.68442195 -0.36506078\n",
            "  -0.19067191]\n",
            " [ 1.23388019  1.94372388 -0.26394125 ... -1.10325546  0.60439732\n",
            "  -0.10558415]\n",
            " ...\n",
            " [ 0.3429808   0.00330087  0.14964075 ... -0.73518964 -0.68519336\n",
            "  -0.27575966]\n",
            " [-0.84488505  0.1597866  -0.47073225 ... -0.24020459 -0.37110101\n",
            "   1.17073215]\n",
            " [-0.84488505 -0.8730192   0.04624525 ... -0.20212881 -0.47378505\n",
            "  -0.87137393]]\n"
          ]
        }
      ]
    },
    {
      "cell_type": "code",
      "source": [
        "from sklearn.model_selection import train_test_split\n",
        "x_train, x_test, y_train, y_test = train_test_split(x, y, test_size = 0.2, random_state = 42)"
      ],
      "metadata": {
        "id": "O0G1WipzmNYk"
      },
      "execution_count": 24,
      "outputs": []
    },
    {
      "cell_type": "code",
      "source": [
        "'''from sklearn.linear_model import LinearRegression\n",
        "lin_reg = LinearRegression()\n",
        "lin_reg.fit(x_train,y_train)'''"
      ],
      "metadata": {
        "id": "eW2RiHTmpxaq"
      },
      "execution_count": null,
      "outputs": []
    },
    {
      "cell_type": "code",
      "source": [
        "'''from sklearn.metrics import mean_squared_error\n",
        "x_predictions = lin_reg.predict(x_train)\n",
        "lin_mse = mean_squared_error(y_train,x_predictions)\n",
        "lin_rmse =  np.sqrt(lin_mse)\n",
        "lin_rmse'''\n"
      ],
      "metadata": {
        "id": "scYecrdAxaFw"
      },
      "execution_count": null,
      "outputs": []
    },
    {
      "cell_type": "code",
      "source": [
        "###랜덤 포레스트\n",
        "###로지스틱\n",
        "###결정트리\n",
        "###svc\n",
        "###sgd classifier"
      ],
      "metadata": {
        "id": "KnjWjx5U0G9t"
      },
      "execution_count": 25,
      "outputs": []
    },
    {
      "cell_type": "code",
      "source": [
        "#LogisticRegression\n",
        "from sklearn.linear_model import LogisticRegression\n",
        "from sklearn.model_selection import cross_val_predict\n",
        "from sklearn.metrics import roc_curve\n",
        "\n",
        "\n",
        "from sklearn.metrics import accuracy_score, precision_score, recall_score, roc_auc_score,f1_score, confusion_matrix,\\\n",
        "roc_curve\n",
        "from sklearn.model_selection import cross_val_predict\n",
        "\n",
        "\n",
        "\n",
        "log_reg_clf=LogisticRegression(random_state=42 , max_iter=500)\n",
        "log_reg_pred = cross_val_predict(log_reg_clf, x_train, y_train, cv = 5)\n"
      ],
      "metadata": {
        "id": "r4Hbzow3mdxY"
      },
      "execution_count": 26,
      "outputs": []
    },
    {
      "cell_type": "code",
      "source": [
        "def plot_roc_curve(fpr, tpr, label = None):\n",
        "    plt.plot(fpr, tpr, linewidth = 5, label= label)\n",
        "    plt.plot([0, 1], [0, 1], \"r--\")\n",
        "    plt.xlabel(\"False Positive Rate\", fontname = \"monospace\", fontsize = 15 )\n",
        "    plt.ylabel(\"True Positive Rate(Recall)\", fontname = \"monospace\", fontsize = 15 )\n",
        "    plt.title(\"ROC Curve\", fontname = \"monospace\", fontsize = 17)\n",
        "    plt.axis([0, 1, 0, 1])\n",
        "    plt.show()"
      ],
      "metadata": {
        "id": "8DiF2EH0v02d"
      },
      "execution_count": 63,
      "outputs": []
    },
    {
      "cell_type": "code",
      "source": [
        "models, auc_scores = [], []"
      ],
      "metadata": {
        "id": "1T2DzhLFwHV8"
      },
      "execution_count": 28,
      "outputs": []
    },
    {
      "cell_type": "code",
      "source": [
        "log_reg_scores = cross_val_predict(log_reg_clf, x_train, y_train, cv = 3, method = \"decision_function\")\n",
        "log_reg_fpr, log_reg_tpr, _ = roc_curve(y_train, log_reg_scores)\n",
        "plot_roc_curve(log_reg_fpr, log_reg_tpr)\n"
      ],
      "metadata": {
        "colab": {
          "base_uri": "https://localhost:8080/",
          "height": 386
        },
        "id": "h54ajCbMszmN",
        "outputId": "6dfe71c5-a819-4b6a-fa04-8830ddcefc04"
      },
      "execution_count": 29,
      "outputs": [
        {
          "output_type": "display_data",
          "data": {
            "text/plain": [
              "<Figure size 576x396 with 1 Axes>"
            ],
            "image/png": "[encoded data removed]"
          },
          "metadata": {}
        }
      ]
    },
    {
      "cell_type": "code",
      "source": [
        "log_reg_auc = roc_auc_score(y_train, log_reg_scores)\n",
        "log_reg_auc"
      ],
      "metadata": {
        "colab": {
          "base_uri": "https://localhost:8080/"
        },
        "id": "WvHHMxAzszgc",
        "outputId": "c100fc39-8351-4605-ca61-6abaf0ae1032"
      },
      "execution_count": 30,
      "outputs": [
        {
          "output_type": "execute_result",
          "data": {
            "text/plain": [
              "0.8354231791413484"
            ]
          },
          "metadata": {},
          "execution_count": 30
        }
      ]
    },
    {
      "cell_type": "code",
      "source": [
        "log_reg_param_grid = [\n",
        "    {\n",
        "        \"C\": [0.25, 0.5, 1, 2,3]\n",
        "    }\n",
        "]"
      ],
      "metadata": {
        "id": "LAp8aMinAtO3"
      },
      "execution_count": 31,
      "outputs": []
    },
    {
      "cell_type": "code",
      "source": [
        "from sklearn.model_selection import GridSearchCV\n",
        "log_reg_grid_search = GridSearchCV(log_reg_clf, log_reg_param_grid,\n",
        "                                   cv = 3, scoring = \"roc_auc\",\n",
        "                                   return_train_score = True)\n",
        "log_reg_grid_search.fit(x_train, y_train)"
      ],
      "metadata": {
        "colab": {
          "base_uri": "https://localhost:8080/"
        },
        "id": "oeJZMTdoA1cQ",
        "outputId": "ff55a6a4-d1ea-47f9-8a52-494d75729486"
      },
      "execution_count": 34,
      "outputs": [
        {
          "output_type": "execute_result",
          "data": {
            "text/plain": [
              "GridSearchCV(cv=3, estimator=LogisticRegression(max_iter=500, random_state=42),\n",
              "             param_grid=[{'C': [0.25, 0.5, 1, 2, 3]}], return_train_score=True,\n",
              "             scoring='roc_auc')"
            ]
          },
          "metadata": {},
          "execution_count": 34
        }
      ]
    },
    {
      "cell_type": "code",
      "source": [
        "from sklearn.model_selection import GridSearchCV\n",
        "log_reg_grid_search = GridSearchCV(log_reg_clf, log_reg_param_grid,\n",
        "                                   cv = 3, scoring = \"accuracy\",\n",
        "                                   return_train_score = True)\n",
        "log_reg_grid_search.fit(x_train, y_train)"
      ],
      "metadata": {
        "colab": {
          "base_uri": "https://localhost:8080/"
        },
        "id": "jCh_u1z6v_Ik",
        "outputId": "dc46283c-0a5d-4a2a-bd48-3299a7989c55"
      },
      "execution_count": 52,
      "outputs": [
        {
          "output_type": "execute_result",
          "data": {
            "text/plain": [
              "GridSearchCV(cv=3, estimator=LogisticRegression(max_iter=500, random_state=42),\n",
              "             param_grid=[{'C': [0.25, 0.5, 1, 2, 3]}], return_train_score=True,\n",
              "             scoring='accuracy')"
            ]
          },
          "metadata": {},
          "execution_count": 52
        }
      ]
    },
    {
      "cell_type": "code",
      "source": [],
      "metadata": {
        "id": "Rn0Qfq-gwGMm"
      },
      "execution_count": null,
      "outputs": []
    },
    {
      "cell_type": "code",
      "source": [
        "log_reg_grid_search.best_estimator_"
      ],
      "metadata": {
        "colab": {
          "base_uri": "https://localhost:8080/"
        },
        "id": "bLowwfmmCIlM",
        "outputId": "37e42a37-bd89-4ab1-8ce4-7cce1068c82e"
      },
      "execution_count": 53,
      "outputs": [
        {
          "output_type": "execute_result",
          "data": {
            "text/plain": [
              "LogisticRegression(C=3, max_iter=500, random_state=42)"
            ]
          },
          "metadata": {},
          "execution_count": 53
        }
      ]
    },
    {
      "cell_type": "code",
      "source": [
        "log_reg_grid_search.best_score_"
      ],
      "metadata": {
        "colab": {
          "base_uri": "https://localhost:8080/"
        },
        "id": "ShqGZXMyCKtH",
        "outputId": "2b4db624-d045-4fc6-bf78-14a41712edb3"
      },
      "execution_count": 54,
      "outputs": [
        {
          "output_type": "execute_result",
          "data": {
            "text/plain": [
              "0.7703172325840906"
            ]
          },
          "metadata": {},
          "execution_count": 54
        }
      ]
    },
    {
      "cell_type": "code",
      "source": [
        "#svc\n",
        "from sklearn.svm import SVC\n",
        "svm_clf = SVC()\n",
        "svm_clf.fit(x_train,y_train)\n"
      ],
      "metadata": {
        "colab": {
          "base_uri": "https://localhost:8080/"
        },
        "id": "VPsk4JEYCSRR",
        "outputId": "21e85f12-f596-4dfc-977c-64b32b71e355"
      },
      "execution_count": 37,
      "outputs": [
        {
          "output_type": "execute_result",
          "data": {
            "text/plain": [
              "SVC()"
            ]
          },
          "metadata": {},
          "execution_count": 37
        }
      ]
    },
    {
      "cell_type": "code",
      "source": [
        "svm_clf = SVC(random_state = 42)\n",
        "svm_clf.fit(x_train,y_train)\n"
      ],
      "metadata": {
        "id": "XC2h1plrF0rB",
        "colab": {
          "base_uri": "https://localhost:8080/"
        },
        "outputId": "638a7270-a016-4da8-b1ca-e258f144dfe6"
      },
      "execution_count": 38,
      "outputs": [
        {
          "output_type": "execute_result",
          "data": {
            "text/plain": [
              "SVC(random_state=42)"
            ]
          },
          "metadata": {},
          "execution_count": 38
        }
      ]
    },
    {
      "cell_type": "code",
      "source": [
        "from sklearn.model_selection import cross_val_score\n",
        "cross_val_score(svm_clf, x_train, y_train, cv = 5, scoring='accuracy')"
      ],
      "metadata": {
        "colab": {
          "base_uri": "https://localhost:8080/"
        },
        "id": "1AM-aaTXI7I_",
        "outputId": "b303c3fc-5482-4634-a04f-71f36d83cb2c"
      },
      "execution_count": 40,
      "outputs": [
        {
          "output_type": "execute_result",
          "data": {
            "text/plain": [
              "array([0.76422764, 0.80487805, 0.73170732, 0.76422764, 0.76229508])"
            ]
          },
          "metadata": {},
          "execution_count": 40
        }
      ]
    },
    {
      "cell_type": "code",
      "source": [
        "#cross_val_predict(svm_clf, x_train, y_train, cv = 5,method = \"decision_function)"
      ],
      "metadata": {
        "colab": {
          "base_uri": "https://localhost:8080/",
          "height": 137
        },
        "id": "ZLGdyE8KJsBh",
        "outputId": "b7ac7a25-a6ed-49cc-ea06-32bbfff25671"
      },
      "execution_count": 55,
      "outputs": [
        {
          "output_type": "error",
          "ename": "SyntaxError",
          "evalue": "ignored",
          "traceback": [
            "\u001b[0;36m  File \u001b[0;32m\"<ipython-input-55-b2d98f94305c>\"\u001b[0;36m, line \u001b[0;32m1\u001b[0m\n\u001b[0;31m    cross_val_predict(svm_clf, x_train, y_train, cv = 5,method = \"decision_function)\u001b[0m\n\u001b[0m                                                                                    ^\u001b[0m\n\u001b[0;31mSyntaxError\u001b[0m\u001b[0;31m:\u001b[0m EOL while scanning string literal\n"
          ]
        }
      ]
    },
    {
      "cell_type": "code",
      "source": [
        "svm_clf_scores = cross_val_predict(svm_clf, x_train, y_train, cv = 5, method = \"decision_function\")\n",
        "svm_fpr, svm_tpr, _ = roc_curve(y_train, svm_clf_scores)\n",
        "plot_roc_curve(svm_fpr, svm_tpr)"
      ],
      "metadata": {
        "colab": {
          "base_uri": "https://localhost:8080/",
          "height": 386
        },
        "id": "VyepmyDwGCIO",
        "outputId": "3a4dfccf-9e65-4406-f465-96db24592719"
      },
      "execution_count": 42,
      "outputs": [
        {
          "output_type": "display_data",
          "data": {
            "text/plain": [
              "<Figure size 576x396 with 1 Axes>"
            ],
            "image/png": "[encoded data removed]"
          },
          "metadata": {}
        }
      ]
    },
    {
      "cell_type": "code",
      "source": [
        "svm_param_grid = {\n",
        "    \"kernel\": [\"rbf\", \"linear\"],\n",
        "    \"C\":[1, 5, 10, 20]\n",
        "}"
      ],
      "metadata": {
        "id": "g1vEQvzbK-1J"
      },
      "execution_count": 43,
      "outputs": []
    },
    {
      "cell_type": "code",
      "source": [
        "svm_grid_search = GridSearchCV(svm_clf, svm_param_grid, cv = 5,\n",
        "                               scoring = \"roc_auc\",\n",
        "                               return_train_score = True)\n",
        "svm_grid_search.fit(x_train, y_train)"
      ],
      "metadata": {
        "colab": {
          "base_uri": "https://localhost:8080/"
        },
        "id": "llubFKjwLK2x",
        "outputId": "2936d652-ccd4-486d-d589-2984c05ec750"
      },
      "execution_count": 44,
      "outputs": [
        {
          "output_type": "execute_result",
          "data": {
            "text/plain": [
              "GridSearchCV(cv=5, estimator=SVC(random_state=42),\n",
              "             param_grid={'C': [1, 5, 10, 20], 'kernel': ['rbf', 'linear']},\n",
              "             return_train_score=True, scoring='roc_auc')"
            ]
          },
          "metadata": {},
          "execution_count": 44
        }
      ]
    },
    {
      "cell_type": "code",
      "source": [
        "svm_grid_search.best_estimator_"
      ],
      "metadata": {
        "colab": {
          "base_uri": "https://localhost:8080/"
        },
        "id": "Xt5zpyiJLT8b",
        "outputId": "133616ee-f5ab-448b-9124-7db11f5c79c6"
      },
      "execution_count": 45,
      "outputs": [
        {
          "output_type": "execute_result",
          "data": {
            "text/plain": [
              "SVC(C=20, kernel='linear', random_state=42)"
            ]
          },
          "metadata": {},
          "execution_count": 45
        }
      ]
    },
    {
      "cell_type": "code",
      "source": [
        "svm_grid_search.best_score_"
      ],
      "metadata": {
        "colab": {
          "base_uri": "https://localhost:8080/"
        },
        "id": "LmW87I1FLVAz",
        "outputId": "54bf3035-f9a7-4055-ee56-b6a9e90ae679"
      },
      "execution_count": 46,
      "outputs": [
        {
          "output_type": "execute_result",
          "data": {
            "text/plain": [
              "0.8338015428680802"
            ]
          },
          "metadata": {},
          "execution_count": 46
        }
      ]
    },
    {
      "cell_type": "markdown",
      "source": [
        "sgd# 새 섹션"
      ],
      "metadata": {
        "id": "oiTHJtlvRB25"
      }
    },
    {
      "cell_type": "code",
      "source": [
        "from sklearn.linear_model import SGDClassifier\n",
        "sgd_clf = SGDClassifier(random_state = 42)\n",
        "sgd_clf_pred = cross_val_predict(sgd_clf, x_train, y_train, cv = 5)"
      ],
      "metadata": {
        "id": "AjaYVb9e1GXz"
      },
      "execution_count": 58,
      "outputs": []
    },
    {
      "cell_type": "code",
      "source": [
        "sgd_clf_scores = cross_val_predict(sgd_clf, x_train, y_train, cv = 5, method = \"decision_function\")\n",
        "sgd_clf_fpr, sgd_clf_tpr, _ = roc_curve(y_train, sgd_clf_scores)\n",
        "plot_roc_curve(sgd_clf_fpr, sgd_clf_tpr)"
      ],
      "metadata": {
        "colab": {
          "base_uri": "https://localhost:8080/",
          "height": 386
        },
        "id": "xeUQyqj91NL-",
        "outputId": "560982d1-910f-4a83-ab4d-a7eec09dfe05"
      },
      "execution_count": 60,
      "outputs": [
        {
          "output_type": "display_data",
          "data": {
            "text/plain": [
              "<Figure size 576x396 with 1 Axes>"
            ],
            "image/png": "[encoded data removed]"
          },
          "metadata": {}
        }
      ]
    },
    {
      "cell_type": "code",
      "source": [
        "sgd_auc = roc_auc_score(y_train, sgd_clf_scores)\n",
        "sgd_auc"
      ],
      "metadata": {
        "colab": {
          "base_uri": "https://localhost:8080/"
        },
        "id": "xl5tl3o11Pu-",
        "outputId": "68d32c81-fd2e-4ddb-fe7d-d75b537729b6"
      },
      "execution_count": 61,
      "outputs": [
        {
          "output_type": "execute_result",
          "data": {
            "text/plain": [
              "0.7675529486143795"
            ]
          },
          "metadata": {},
          "execution_count": 61
        }
      ]
    },
    {
      "cell_type": "code",
      "source": [
        "models.append(\"SGD Classifier\")\n",
        "auc_scores.append(sgd_auc)"
      ],
      "metadata": {
        "id": "l5pXzmtP1RRc"
      },
      "execution_count": 62,
      "outputs": []
    },
    {
      "cell_type": "code",
      "source": [
        "#의사결정나무\n"
      ],
      "metadata": {
        "id": "wzbuRxUC2x05"
      },
      "execution_count": null,
      "outputs": []
    },
    {
      "cell_type": "code",
      "source": [
        "from sklearn.tree import DecisionTreeClassifier\n",
        "dt = DecisionTreeClassifier()"
      ],
      "metadata": {
        "id": "N0BWuz4vrnuQ"
      },
      "execution_count": 64,
      "outputs": []
    },
    {
      "cell_type": "code",
      "source": [
        "from sklearn.model_selection import GridSearchCV"
      ],
      "metadata": {
        "id": "AhX4xKiktD0Y"
      },
      "execution_count": 65,
      "outputs": []
    },
    {
      "cell_type": "code",
      "source": [
        "paramaters = {'criterion':['gini','entropy'],\n",
        "              'splitter' : ['best', 'random'],\n",
        "              'min_samples_split':[1,2,5,10], \n",
        "              'max_depth':[None,2], \n",
        "              'min_samples_leaf':[10,15,20,30,50], \n",
        "              'max_features':[None,'sqrt','log2']}"
      ],
      "metadata": {
        "id": "QNhrDzI4sfBi"
      },
      "execution_count": 66,
      "outputs": []
    },
    {
      "cell_type": "code",
      "source": [
        "GSDT = GridSearchCV(dt, paramaters, cv = 10, \n",
        "                    scoring = \"accuracy\", return_train_score = True)\n",
        "GSDT.fit(x_train, y_train)"
      ],
      "metadata": {
        "colab": {
          "base_uri": "https://localhost:8080/"
        },
        "id": "pxmtc669se_L",
        "outputId": "1686b8c8-60ca-4393-84f6-366acfcf38a2"
      },
      "execution_count": 68,
      "outputs": [
        {
          "output_type": "stream",
          "name": "stderr",
          "text": [
            "/usr/local/lib/python3.7/dist-packages/sklearn/model_selection/_validation.py:372: FitFailedWarning: \n",
            "1200 fits failed out of a total of 4800.\n",
            "The score on these train-test partitions for these parameters will be set to nan.\n",
            "If these failures are not expected, you can try to debug them by setting error_score='raise'.\n",
            "\n",
            "Below are more details about the failures:\n",
            "--------------------------------------------------------------------------------\n",
            "1200 fits failed with the following error:\n",
            "Traceback (most recent call last):\n",
            "  File \"/usr/local/lib/python3.7/dist-packages/sklearn/model_selection/_validation.py\", line 680, in _fit_and_score\n",
            "    estimator.fit(X_train, y_train, **fit_params)\n",
            "  File \"/usr/local/lib/python3.7/dist-packages/sklearn/tree/_classes.py\", line 942, in fit\n",
            "    X_idx_sorted=X_idx_sorted,\n",
            "  File \"/usr/local/lib/python3.7/dist-packages/sklearn/tree/_classes.py\", line 254, in fit\n",
            "    % self.min_samples_split\n",
            "ValueError: min_samples_split must be an integer greater than 1 or a float in (0.0, 1.0]; got the integer 1\n",
            "\n",
            "  warnings.warn(some_fits_failed_message, FitFailedWarning)\n",
            "/usr/local/lib/python3.7/dist-packages/sklearn/model_selection/_search.py:972: UserWarning: One or more of the test scores are non-finite: [       nan        nan 0.74920677 0.70679535 0.75727129 0.71988366\n",
            " 0.74267583 0.72477525        nan        nan 0.75571126 0.73307774\n",
            " 0.75571126 0.74590164 0.75893707 0.73133263        nan        nan\n",
            " 0.74595452 0.71337916 0.74595452 0.71332628 0.74595452 0.73278689\n",
            "        nan        nan 0.73117398 0.71504495 0.73117398 0.72649392\n",
            " 0.73117398 0.73278689        nan        nan 0.74762031 0.72112639\n",
            " 0.74762031 0.66766261 0.74762031 0.67723427        nan        nan\n",
            " 0.7101798  0.68892121 0.7264146  0.68566896 0.7116605  0.66454257\n",
            "        nan        nan 0.73593337 0.66459545 0.73135907 0.6725542\n",
            " 0.75076679 0.67252776        nan        nan 0.7116605  0.65153358\n",
            " 0.71322052 0.6547065  0.72318879 0.66943416        nan        nan\n",
            " 0.6826018  0.68894765 0.70359598 0.65634585 0.71832364 0.65637229\n",
            "        nan        nan 0.69883659 0.65967742 0.70999471 0.66298255\n",
            " 0.68061872 0.6662348         nan        nan 0.73751983 0.66771549\n",
            " 0.72477525 0.7182972  0.74259651 0.70208884        nan        nan\n",
            " 0.7281597  0.68868324 0.75084611 0.71340561 0.73950291 0.70200952\n",
            "        nan        nan 0.74595452 0.6728715  0.72485457 0.68553675\n",
            " 0.71337916 0.71848228        nan        nan 0.72324167 0.68738763\n",
            " 0.71335272 0.67739291 0.73455843 0.63844527        nan        nan\n",
            " 0.74928609 0.66118456 0.73291909 0.66790058 0.71007403 0.67583289\n",
            "        nan        nan 0.74275516 0.70523533 0.74275516 0.70034373\n",
            " 0.74275516 0.70676891        nan        nan 0.74931253 0.71665785\n",
            " 0.74931253 0.68749339 0.74931253 0.69397144        nan        nan\n",
            " 0.74931253 0.70185087 0.74931253 0.66964569 0.74931253 0.7004495\n",
            "        nan        nan 0.74931253 0.7265468  0.74931253 0.71343205\n",
            " 0.74931253 0.71332628        nan        nan 0.74931253 0.69222634\n",
            " 0.74931253 0.68733474 0.74931253 0.71996298        nan        nan\n",
            " 0.70195664 0.6760973  0.6774458  0.66790058 0.70526177 0.65809096\n",
            "        nan        nan 0.70356954 0.67414067 0.68413538 0.64172396\n",
            " 0.69873083 0.68083025        nan        nan 0.69243786 0.67755156\n",
            " 0.67948176 0.66951348 0.69521417 0.67916446        nan        nan\n",
            " 0.71663141 0.66279746 0.71501851 0.6760973  0.68281333 0.65962454\n",
            "        nan        nan 0.72321523 0.66790058 0.68252247 0.66298255\n",
            " 0.68262824 0.64333686        nan        nan 0.69201481 0.66964569\n",
            " 0.72147012 0.6530936  0.70380751 0.66760973        nan        nan\n",
            " 0.7086991  0.70510312 0.71168694 0.68249603 0.6904019  0.688789\n",
            "        nan        nan 0.69249075 0.69217345 0.72638815 0.67763088\n",
            " 0.70668958 0.66800635        nan        nan 0.7443945  0.66438392\n",
            " 0.69867795 0.65809096 0.70851401 0.67897938        nan        nan\n",
            " 0.72667901 0.65801163 0.71493919 0.67416711 0.71813855 0.64167107\n",
            "        nan        nan 0.75407192 0.75237969 0.74751454 0.710312\n",
            " 0.75079323 0.7442623         nan        nan 0.77363829 0.71340561\n",
            " 0.77363829 0.71155473 0.77363829 0.74920677        nan        nan\n",
            " 0.78336859 0.72956108 0.78336859 0.71975145 0.78336859 0.7264146\n",
            "        nan        nan 0.7393707  0.72170809 0.7393707  0.71827076\n",
            " 0.7393707  0.72316235        nan        nan 0.76054997 0.68873612\n",
            " 0.76054997 0.71985722 0.76054997 0.70523533        nan        nan\n",
            " 0.74262295 0.68241671 0.71837652 0.66927552 0.75906928 0.7035431\n",
            "        nan        nan 0.72332099 0.6709413  0.69378636 0.67400846\n",
            " 0.7393707  0.65954521        nan        nan 0.71837652 0.67427287\n",
            " 0.7280275  0.66300899 0.72464305 0.67741935        nan        nan\n",
            " 0.71480698 0.6744844  0.70838181 0.65486515 0.69685352 0.65621364\n",
            "        nan        nan 0.70687467 0.66953993 0.71501851 0.66131676\n",
            " 0.70333157 0.64992068        nan        nan 0.71649921 0.71485986\n",
            " 0.71988366 0.69719725 0.7246166  0.69717081        nan        nan\n",
            " 0.77543628 0.72469593 0.74923321 0.67437864 0.72633527 0.69553146\n",
            "        nan        nan 0.72308302 0.69225278 0.7295082  0.67107351\n",
            " 0.76073506 0.67612374        nan        nan 0.71168694 0.64994712\n",
            " 0.72786885 0.69222634 0.74754098 0.68392385        nan        nan\n",
            " 0.72469593 0.65132205 0.75237969 0.69238498 0.73114754 0.67120571\n",
            "        nan        nan 0.70690111 0.6969064  0.70690111 0.71316764\n",
            " 0.70690111 0.70991539        nan        nan 0.71345849 0.70676891\n",
            " 0.71345849 0.70055526 0.71345849 0.69553146        nan        nan\n",
            " 0.71345849 0.71023268 0.71345849 0.69701216 0.71345849 0.7036753\n",
            "        nan        nan 0.71345849 0.72305658 0.71345849 0.71504495\n",
            " 0.71345849 0.70359598        nan        nan 0.71345849 0.69862507\n",
            " 0.71345849 0.71004759 0.71345849 0.71975145        nan        nan\n",
            " 0.72141724 0.63516658 0.71340561 0.67903226 0.71673718 0.69534638\n",
            "        nan        nan 0.68921206 0.66951348 0.69225278 0.66126388\n",
            " 0.70023797 0.68249603        nan        nan 0.69563723 0.6938128\n",
            " 0.70177155 0.67268641 0.7036753  0.67440508        nan        nan\n",
            " 0.70042306 0.65637229 0.71168694 0.66935484 0.68558964 0.64500264\n",
            "        nan        nan 0.70523533 0.6547065  0.69706504 0.65639873\n",
            " 0.70187731 0.66610259        nan        nan 0.71184558 0.65153358\n",
            " 0.72808038 0.6840825  0.72334744 0.69389212        nan        nan\n",
            " 0.72792173 0.6581174  0.71827076 0.66261237 0.72636171 0.64978847\n",
            "        nan        nan 0.70050238 0.69074564 0.7296404  0.68736118\n",
            " 0.68712322 0.6873083         nan        nan 0.68402961 0.6871761\n",
            " 0.70523533 0.66956637 0.71676362 0.68405605        nan        nan\n",
            " 0.71800635 0.66951348 0.72498678 0.66940772 0.69725013 0.66292967]\n",
            "  category=UserWarning,\n",
            "/usr/local/lib/python3.7/dist-packages/sklearn/model_selection/_search.py:972: UserWarning: One or more of the train scores are non-finite: [       nan        nan 0.84436768 0.78320492 0.84473    0.77723255\n",
            " 0.84509232 0.77994536        nan        nan 0.82826578 0.75876641\n",
            " 0.82826578 0.76402757 0.82826578 0.76113295        nan        nan\n",
            " 0.82084545 0.74846719 0.82084545 0.75606999 0.82084545 0.75389083\n",
            "        nan        nan 0.79822608 0.74556241 0.79822608 0.7354355\n",
            " 0.79822608 0.73507318        nan        nan 0.78013438 0.71281711\n",
            " 0.78013438 0.71028055 0.78013438 0.70649029        nan        nan\n",
            " 0.81523836 0.70431703 0.80998965 0.69635191 0.81034574 0.68440686\n",
            "        nan        nan 0.78755307 0.67444145 0.79045195 0.67517199\n",
            " 0.79569247 0.69056399        nan        nan 0.77561096 0.67807087\n",
            " 0.77633331 0.67951424 0.78700402 0.68096942        nan        nan\n",
            " 0.75533618 0.67372402 0.75876903 0.67770625 0.75823047 0.67662454\n",
            "        nan        nan 0.72510352 0.65707996 0.74340783 0.65906551\n",
            " 0.74376228 0.67298988        nan        nan 0.82483129 0.72384261\n",
            " 0.82012376 0.73706463 0.82862843 0.72910246        nan        nan\n",
            " 0.80184566 0.70450474 0.80329723 0.73090685 0.80908942 0.72964201\n",
            "        nan        nan 0.78845101 0.71171181 0.79297442 0.70086681\n",
            " 0.78555999 0.71605046        nan        nan 0.7694522  0.69524956\n",
            " 0.77325851 0.69562072 0.77270619 0.67698063        nan        nan\n",
            " 0.75805357 0.6704625  0.75624034 0.68203541 0.75152659 0.67843384\n",
            "        nan        nan 0.76203089 0.7063016  0.76203089 0.72077502\n",
            " 0.76203089 0.71988036        nan        nan 0.76185005 0.70376078\n",
            " 0.76185005 0.71642752 0.76185005 0.71100486        nan        nan\n",
            " 0.76185005 0.71409112 0.76185005 0.69887209 0.76185005 0.71607569\n",
            "        nan        nan 0.76185005 0.72512088 0.76185005 0.72167984\n",
            " 0.76185005 0.70683295        nan        nan 0.76185005 0.69563219\n",
            " 0.76185005 0.70232297 0.76185005 0.72204478        nan        nan\n",
            " 0.71190443 0.67642962 0.71461691 0.67082383 0.71028841 0.66087546\n",
            "        nan        nan 0.71896572 0.6710181  0.71840685 0.65906387\n",
            " 0.71552173 0.67933702        nan        nan 0.71896081 0.67859862\n",
            " 0.71389719 0.66539134 0.72494726 0.67968983        nan        nan\n",
            " 0.71644489 0.66974769 0.71318336 0.67226492 0.71767697 0.6597944\n",
            "        nan        nan 0.74393624 0.66557611 0.71263104 0.67009657\n",
            " 0.73252942 0.65942422        nan        nan 0.7280273  0.67227213\n",
            " 0.74231465 0.67933669 0.7283693  0.66704045        nan        nan\n",
            " 0.72962857 0.69671653 0.74212825 0.68583844 0.72458789 0.67861303\n",
            "        nan        nan 0.72944643 0.68622533 0.73236595 0.6804184\n",
            " 0.73273613 0.67009985        nan        nan 0.74068389 0.67590416\n",
            " 0.74882852 0.67879583 0.73742727 0.69292168        nan        nan\n",
            " 0.75207695 0.65707734 0.74539043 0.67879649 0.73017402 0.65797986\n",
            "        nan        nan 0.85142831 0.77488239 0.85142831 0.77704943\n",
            " 0.85142831 0.77361952        nan        nan 0.83767526 0.76674005\n",
            " 0.83767526 0.76873018 0.83767526 0.76656446        nan        nan\n",
            " 0.82554937 0.75333949 0.82554937 0.75353113 0.82554937 0.7433921\n",
            "        nan        nan 0.802207   0.74809701 0.802207   0.7312613\n",
            " 0.802207   0.74213644        nan        nan 0.7823024  0.71120175\n",
            " 0.7823024  0.73416739 0.7823024  0.70919261        nan        nan\n",
            " 0.81107398 0.69199754 0.81632073 0.69707688 0.81722652 0.68783546\n",
            "        nan        nan 0.79352281 0.68169569 0.78846542 0.68512986\n",
            " 0.79189533 0.69054662        nan        nan 0.78048458 0.67968197\n",
            " 0.77669202 0.67878371 0.77144855 0.69689081        nan        nan\n",
            " 0.75660429 0.68041709 0.75516288 0.68239641 0.75534895 0.67064398\n",
            "        nan        nan 0.72801485 0.6753407  0.7341569  0.66123221\n",
            " 0.73019171 0.66432601        nan        nan 0.82790674 0.72964856\n",
            " 0.83007574 0.72439624 0.82935634 0.72746875        nan        nan\n",
            " 0.81487375 0.73435182 0.80347643 0.70356586 0.80890761 0.71588241\n",
            "        nan        nan 0.789726   0.69398505 0.79352674 0.70537778\n",
            " 0.79189533 0.69472574        nan        nan 0.77995125 0.6838624\n",
            " 0.77579376 0.70810893 0.77217483 0.69526627        nan        nan\n",
            " 0.75570603 0.68205539 0.75913627 0.68457688 0.76095245 0.68293596\n",
            "        nan        nan 0.74954497 0.69635388 0.74954497 0.71101207\n",
            " 0.74954497 0.70341451        nan        nan 0.74936414 0.70557139\n",
            " 0.74936414 0.71298156 0.74936414 0.71587684        nan        nan\n",
            " 0.74936414 0.71262252 0.74936414 0.71264054 0.74936414 0.71969167\n",
            "        nan        nan 0.74936414 0.71299532 0.74936414 0.70628653\n",
            " 0.74936414 0.70664917        nan        nan 0.74936414 0.69960066\n",
            " 0.74936414 0.69327253 0.74936414 0.71443706        nan        nan\n",
            " 0.72657016 0.66576382 0.72241692 0.67607385 0.7213149  0.67264329\n",
            "        nan        nan 0.7220379  0.66413273 0.72729381 0.67083104\n",
            " 0.7249371  0.67843351        nan        nan 0.72167951 0.67987165\n",
            " 0.71373012 0.67697605 0.71478693 0.68113256        nan        nan\n",
            " 0.70394816 0.66178453 0.72909034 0.67644469 0.71463329 0.65363793\n",
            "        nan        nan 0.72257875 0.66829972 0.72367193 0.65526476\n",
            " 0.71571042 0.66105662        nan        nan 0.73543452 0.68764349\n",
            " 0.73180249 0.68149914 0.73561175 0.70068172        nan        nan\n",
            " 0.72567419 0.67879157 0.73561928 0.68025067 0.73635309 0.68766871\n",
            "        nan        nan 0.72765613 0.67479722 0.73670493 0.68621583\n",
            " 0.73254121 0.68837762        nan        nan 0.72674509 0.68006427\n",
            " 0.73072372 0.67969704 0.7374181  0.67788446        nan        nan\n",
            " 0.72875259 0.67626418 0.72837291 0.66051642 0.72366473 0.67119107]\n",
            "  category=UserWarning,\n"
          ]
        },
        {
          "output_type": "execute_result",
          "data": {
            "text/plain": [
              "GridSearchCV(cv=10, estimator=DecisionTreeClassifier(),\n",
              "             param_grid={'criterion': ['gini', 'entropy'],\n",
              "                         'max_depth': [None, 2],\n",
              "                         'max_features': [None, 'sqrt', 'log2'],\n",
              "                         'min_samples_leaf': [10, 15, 20, 30, 50],\n",
              "                         'min_samples_split': [1, 2, 5, 10],\n",
              "                         'splitter': ['best', 'random']},\n",
              "             return_train_score=True, scoring='accuracy')"
            ]
          },
          "metadata": {},
          "execution_count": 68
        }
      ]
    },
    {
      "cell_type": "code",
      "source": [
        "print('final params', GSDT.best_params_)\n",
        "print('best_score', GSDT.best_score_)"
      ],
      "metadata": {
        "colab": {
          "base_uri": "https://localhost:8080/"
        },
        "id": "3EtUHCYMse8m",
        "outputId": "6c49538c-b0ba-41b9-905e-ea8cd524bace"
      },
      "execution_count": 69,
      "outputs": [
        {
          "output_type": "stream",
          "name": "stdout",
          "text": [
            "final params {'criterion': 'entropy', 'max_depth': None, 'max_features': None, 'min_samples_leaf': 20, 'min_samples_split': 2, 'splitter': 'best'}\n",
            "best_score 0.7833685880486515\n"
          ]
        }
      ]
    },
    {
      "cell_type": "code",
      "source": [
        "#의사결정나무"
      ],
      "metadata": {
        "id": "EuMbtACD23Ep"
      },
      "execution_count": 70,
      "outputs": []
    },
    {
      "cell_type": "code",
      "source": [
        "from sklearn.tree import DecisionTreeClassifier\n",
        "dt = DecisionTreeClassifier()"
      ],
      "metadata": {
        "id": "j2HarTtQ5P5b"
      },
      "execution_count": 71,
      "outputs": []
    },
    {
      "cell_type": "code",
      "source": [
        "from sklearn.model_selection import GridSearchCV"
      ],
      "metadata": {
        "id": "vXriXgX65RPc"
      },
      "execution_count": 72,
      "outputs": []
    },
    {
      "cell_type": "code",
      "source": [
        "paramaters = {'criterion':['gini','entropy'],\n",
        "              'splitter' : ['best', 'random'],\n",
        "              'min_samples_split':[1,2,5,10], \n",
        "              'max_depth':[None,2], \n",
        "              'min_samples_leaf':[10,15,20,30,50], \n",
        "              'max_features':[None,'sqrt','log2']}"
      ],
      "metadata": {
        "id": "w9ftmH-e5S2H"
      },
      "execution_count": 73,
      "outputs": []
    },
    {
      "cell_type": "code",
      "source": [
        "GSDT = GridSearchCV(dt, paramaters, cv = 10, \n",
        "                    scoring = \"accuracy\", return_train_score = True)\n",
        "GSDT.fit(x_train, y_train)"
      ],
      "metadata": {
        "colab": {
          "base_uri": "https://localhost:8080/"
        },
        "outputId": "dab67020-ac63-4cf0-8d25-f8516353752e",
        "id": "KtmaNJa05Ufl"
      },
      "execution_count": 75,
      "outputs": [
        {
          "output_type": "stream",
          "name": "stderr",
          "text": [
            "/usr/local/lib/python3.7/dist-packages/sklearn/model_selection/_validation.py:372: FitFailedWarning: \n",
            "1200 fits failed out of a total of 4800.\n",
            "The score on these train-test partitions for these parameters will be set to nan.\n",
            "If these failures are not expected, you can try to debug them by setting error_score='raise'.\n",
            "\n",
            "Below are more details about the failures:\n",
            "--------------------------------------------------------------------------------\n",
            "1200 fits failed with the following error:\n",
            "Traceback (most recent call last):\n",
            "  File \"/usr/local/lib/python3.7/dist-packages/sklearn/model_selection/_validation.py\", line 680, in _fit_and_score\n",
            "    estimator.fit(X_train, y_train, **fit_params)\n",
            "  File \"/usr/local/lib/python3.7/dist-packages/sklearn/tree/_classes.py\", line 942, in fit\n",
            "    X_idx_sorted=X_idx_sorted,\n",
            "  File \"/usr/local/lib/python3.7/dist-packages/sklearn/tree/_classes.py\", line 254, in fit\n",
            "    % self.min_samples_split\n",
            "ValueError: min_samples_split must be an integer greater than 1 or a float in (0.0, 1.0]; got the integer 1\n",
            "\n",
            "  warnings.warn(some_fits_failed_message, FitFailedWarning)\n",
            "/usr/local/lib/python3.7/dist-packages/sklearn/model_selection/_search.py:972: UserWarning: One or more of the test scores are non-finite: [       nan        nan 0.74754098 0.73283977 0.75563194 0.7393707\n",
            " 0.75079323 0.75906928        nan        nan 0.75571126 0.7197779\n",
            " 0.75571126 0.72966684 0.75893707 0.7460074         nan        nan\n",
            " 0.74595452 0.72154944 0.74595452 0.7525119  0.74595452 0.72813326\n",
            "        nan        nan 0.73117398 0.72469593 0.73117398 0.7246166\n",
            " 0.73117398 0.73625066        nan        nan 0.74762031 0.69695928\n",
            " 0.74762031 0.70349022 0.74762031 0.70864622        nan        nan\n",
            " 0.72649392 0.67908514 0.71652565 0.69373347 0.69534638 0.68413538\n",
            "        nan        nan 0.7280275  0.65806452 0.70695399 0.69719725\n",
            " 0.70682179 0.68754627        nan        nan 0.72149656 0.66454257\n",
            " 0.73458488 0.68722898 0.72144368 0.65629297        nan        nan\n",
            " 0.72789529 0.67440508 0.7117927  0.65809096 0.7264146  0.66462189\n",
            "        nan        nan 0.72945531 0.6449762  0.70999471 0.66441036\n",
            " 0.68900053 0.68225806        nan        nan 0.71663141 0.688789\n",
            " 0.74746166 0.71348493 0.73445267 0.68725542        nan        nan\n",
            " 0.75095188 0.70848757 0.73955579 0.68577472 0.71652565 0.69383924\n",
            "        nan        nan 0.71329984 0.7197779  0.71996298 0.7050238\n",
            " 0.71985722 0.70861978        nan        nan 0.74442094 0.6662348\n",
            " 0.71507139 0.68093601 0.74106293 0.69711793        nan        nan\n",
            " 0.69881015 0.65486515 0.71657853 0.67911158 0.71824432 0.69077208\n",
            "        nan        nan 0.74275516 0.68746695 0.74275516 0.69569011\n",
            " 0.74275516 0.69056055        nan        nan 0.74931253 0.6954257\n",
            " 0.74931253 0.70877842 0.74931253 0.70190375        nan        nan\n",
            " 0.74931253 0.67440508 0.74931253 0.67411423 0.74931253 0.69693284\n",
            "        nan        nan 0.74931253 0.68244315 0.74931253 0.71028556\n",
            " 0.74931253 0.71983078        nan        nan 0.74931253 0.69862507\n",
            " 0.74931253 0.69870439 0.74931253 0.69225278        nan        nan\n",
            " 0.68413538 0.66782126 0.68741407 0.66776838 0.71660497 0.64513485\n",
            "        nan        nan 0.71983078 0.66292967 0.67916446 0.66274458\n",
            " 0.70341089 0.68098889        nan        nan 0.71832364 0.666367\n",
            " 0.70185087 0.68886832 0.7020624  0.6806716         nan        nan\n",
            " 0.6954257  0.68077737 0.72974617 0.65153358 0.70050238 0.6842147\n",
            "        nan        nan 0.677578   0.65312004 0.67414067 0.66290323\n",
            " 0.67916446 0.68707033        nan        nan 0.73952935 0.68751983\n",
            " 0.70380751 0.6595981  0.72979905 0.66126388        nan        nan\n",
            " 0.71155473 0.68228451 0.72971973 0.68590693 0.73281333 0.66441036\n",
            "        nan        nan 0.7168165  0.67911158 0.72305658 0.67940243\n",
            " 0.72324167 0.65653094        nan        nan 0.71985722 0.69058699\n",
            " 0.70531465 0.70039662 0.73950291 0.66292967        nan        nan\n",
            " 0.69368059 0.66292967 0.71980434 0.65314648 0.70039662 0.68083025\n",
            "        nan        nan 0.74751454 0.7407192  0.75079323 0.74275516\n",
            " 0.75565838 0.69859863        nan        nan 0.77363829 0.72168165\n",
            " 0.77363829 0.72786885 0.77363829 0.72477525        nan        nan\n",
            " 0.78336859 0.70349022 0.78336859 0.72797462 0.78336859 0.75563194\n",
            "        nan        nan 0.7393707  0.71036489 0.7393707  0.73773136\n",
            " 0.7393707  0.73442623        nan        nan 0.76054997 0.72482813\n",
            " 0.76054997 0.68728186 0.76054997 0.71168694        nan        nan\n",
            " 0.69867795 0.67741935 0.72945531 0.68410894 0.70859334 0.69399788\n",
            "        nan        nan 0.72456372 0.66459545 0.73606557 0.66626124\n",
            " 0.74418297 0.68236383        nan        nan 0.70362242 0.6678477\n",
            " 0.73469064 0.65962454 0.74101005 0.68254892        nan        nan\n",
            " 0.72160233 0.66290323 0.7197779  0.66290323 0.72480169 0.66779482\n",
            "        nan        nan 0.69738234 0.66602327 0.68265468 0.66300899\n",
            " 0.73117398 0.64828133        nan        nan 0.73120042 0.69714437\n",
            " 0.71329984 0.68416182 0.72128503 0.68225806        nan        nan\n",
            " 0.74444738 0.71813855 0.71827076 0.6938128  0.73122686 0.68886832\n",
            "        nan        nan 0.75079323 0.68397673 0.73458488 0.69899524\n",
            " 0.74114225 0.69063987        nan        nan 0.71335272 0.6662348\n",
            " 0.73622422 0.67445796 0.72480169 0.70539397        nan        nan\n",
            " 0.72646748 0.67588577 0.71980434 0.66612903 0.72956108 0.67601798\n",
            "        nan        nan 0.70690111 0.70364886 0.70690111 0.71507139\n",
            " 0.70690111 0.7066367         nan        nan 0.71345849 0.67583289\n",
            " 0.71345849 0.70854045 0.71345849 0.70214172        nan        nan\n",
            " 0.71345849 0.67435219 0.71345849 0.68733474 0.71345849 0.69553146\n",
            "        nan        nan 0.71345849 0.71158117 0.71345849 0.7101798\n",
            " 0.71345849 0.70668958        nan        nan 0.71345849 0.71002115\n",
            " 0.71345849 0.70031729 0.71345849 0.69857218        nan        nan\n",
            " 0.70542041 0.65325225 0.70698043 0.65809096 0.68886832 0.64502909\n",
            "        nan        nan 0.69561079 0.66446325 0.69711793 0.67934955\n",
            " 0.68434691 0.66290323        nan        nan 0.70362242 0.64344262\n",
            " 0.71173982 0.65801163 0.70383395 0.67752512        nan        nan\n",
            " 0.69222634 0.66126388 0.67924379 0.67747224 0.65132205 0.67268641\n",
            "        nan        nan 0.69058699 0.65957166 0.70539397 0.65801163\n",
            " 0.69878371 0.65475939        nan        nan 0.69717081 0.66930196\n",
            " 0.69190904 0.68397673 0.70528821 0.67432575        nan        nan\n",
            " 0.68886832 0.67435219 0.71665785 0.66935484 0.71195135 0.66961925\n",
            "        nan        nan 0.70526177 0.70674246 0.72472237 0.65962454\n",
            " 0.7132734  0.68249603        nan        nan 0.70216816 0.67585933\n",
            " 0.72633527 0.69360127 0.72149656 0.67755156        nan        nan\n",
            " 0.70523533 0.67104707 0.71499207 0.65957166 0.7131412  0.68714966]\n",
            "  category=UserWarning,\n",
            "/usr/local/lib/python3.7/dist-packages/sklearn/model_selection/_search.py:972: UserWarning: One or more of the train scores are non-finite: [       nan        nan 0.84509232 0.78067687 0.84473    0.77940516\n",
            " 0.84473    0.78139463        nan        nan 0.82826578 0.7578652\n",
            " 0.82826578 0.75660953 0.82826578 0.7555193         nan        nan\n",
            " 0.82084545 0.75118163 0.82084545 0.75171987 0.82084545 0.7555157\n",
            "        nan        nan 0.79822608 0.74321488 0.79822608 0.73434789\n",
            " 0.79822608 0.72962825        nan        nan 0.78013438 0.71136587\n",
            " 0.78013438 0.72223609 0.78013438 0.6943454         nan        nan\n",
            " 0.8105364  0.68241247 0.80184468 0.71082894 0.81089512 0.68438589\n",
            "        nan        nan 0.79497209 0.67209817 0.79352281 0.68746528\n",
            " 0.78356527 0.70159342        nan        nan 0.78049866 0.68404421\n",
            " 0.77795752 0.67335548 0.77289259 0.67878502        nan        nan\n",
            " 0.75822457 0.68422079 0.76619919 0.67028986 0.75641724 0.67099779\n",
            "        nan        nan 0.73507482 0.66015476 0.74447972 0.66070348\n",
            " 0.73688412 0.68240657        nan        nan 0.82663895 0.73253597\n",
            " 0.827359   0.73035911 0.8342388  0.73996416        nan        nan\n",
            " 0.80836445 0.72422    0.80257358 0.71497595 0.80420041 0.71751612\n",
            "        nan        nan 0.79297934 0.71427163 0.78157677 0.70160292\n",
            " 0.79587494 0.7041018         nan        nan 0.78465288 0.68438851\n",
            " 0.77380002 0.68729853 0.78175859 0.70341844        nan        nan\n",
            " 0.7546135  0.66648027 0.75208153 0.6845831  0.75063684 0.68258576\n",
            "        nan        nan 0.76203089 0.70484217 0.76203089 0.71371111\n",
            " 0.76203089 0.70068959        nan        nan 0.76185005 0.70592617\n",
            " 0.76185005 0.72005038 0.76185005 0.7148115         nan        nan\n",
            " 0.76185005 0.69037103 0.76185005 0.69490723 0.76185005 0.70902849\n",
            "        nan        nan 0.76185005 0.69308744 0.76185005 0.70049368\n",
            " 0.76185005 0.72113832        nan        nan 0.76185005 0.70249856\n",
            " 0.76185005 0.69398505 0.76185005 0.70086649        nan        nan\n",
            " 0.71354208 0.68801989 0.72512186 0.67228556 0.7184324  0.66304708\n",
            "        nan        nan 0.73453167 0.67172603 0.70865962 0.66304839\n",
            " 0.72657835 0.67208867        nan        nan 0.72220956 0.6755212\n",
            " 0.72313173 0.67535184 0.72059026 0.69181834        nan        nan\n",
            " 0.72042679 0.67843417 0.73216219 0.66865778 0.72565093 0.66430701\n",
            "        nan        nan 0.71155227 0.65309478 0.70648701 0.66196045\n",
            " 0.7048533  0.66341169        nan        nan 0.73868523 0.68440162\n",
            " 0.73524845 0.66123942 0.73507024 0.68838418        nan        nan\n",
            " 0.73851423 0.67354548 0.74176134 0.68474494 0.75064143 0.67735311\n",
            "        nan        nan 0.71967365 0.67608368 0.74484597 0.68294317\n",
            " 0.74248958 0.67136633        nan        nan 0.73761073 0.69977527\n",
            " 0.73705939 0.69417243 0.73869605 0.66576021        nan        nan\n",
            " 0.72674935 0.66449308 0.74485186 0.67281757 0.72873588 0.67264067\n",
            "        nan        nan 0.85142831 0.78266504 0.85142831 0.77542653\n",
            " 0.85142831 0.77198515        nan        nan 0.83767526 0.76076277\n",
            " 0.83767526 0.77035079 0.83767526 0.75914216        nan        nan\n",
            " 0.82554937 0.74285976 0.82554937 0.75225417 0.82554937 0.75533749\n",
            "        nan        nan 0.802207   0.74321422 0.802207   0.74103834\n",
            " 0.802207   0.75226892        nan        nan 0.7823024  0.69924555\n",
            " 0.7823024  0.72747202 0.7823024  0.72278055        nan        nan\n",
            " 0.80600086 0.7075838  0.8188586  0.71569797 0.81089086 0.69018693\n",
            "        nan        nan 0.78881529 0.69489576 0.79913974 0.69598108\n",
            " 0.79877906 0.68258871        nan        nan 0.77325523 0.68385388\n",
            " 0.77814032 0.68349123 0.78519865 0.68765823        nan        nan\n",
            " 0.76076408 0.66521444 0.76203383 0.67536035 0.76583884 0.67282641\n",
            "        nan        nan 0.73524091 0.66432109 0.73489465 0.66991869\n",
            " 0.74303765 0.65327594        nan        nan 0.82880959 0.731088\n",
            " 0.83061692 0.73271123 0.83442095 0.72476675        nan        nan\n",
            " 0.79768555 0.72476249 0.80944879 0.72167034 0.80419975 0.70938032\n",
            "        nan        nan 0.79659859 0.70014578 0.7944214  0.71044664\n",
            " 0.79695698 0.692713          nan        nan 0.78248159 0.69471788\n",
            " 0.78031849 0.69505956 0.77578524 0.69290432        nan        nan\n",
            " 0.76383822 0.67554053 0.76112574 0.68059661 0.75046682 0.69615962\n",
            "        nan        nan 0.74954497 0.71282268 0.74954497 0.71552107\n",
            " 0.74954497 0.71155162        nan        nan 0.74936414 0.68512789\n",
            " 0.74936414 0.71570616 0.74936414 0.70428788        nan        nan\n",
            " 0.74936414 0.69995807 0.74936414 0.69995774 0.74936414 0.69652292\n",
            "        nan        nan 0.74936414 0.70105616 0.74936414 0.71334749\n",
            " 0.74936414 0.70359895        nan        nan 0.74936414 0.70376405\n",
            " 0.74936414 0.70106173 0.74936414 0.70649226        nan        nan\n",
            " 0.72856029 0.67335319 0.71607208 0.67063907 0.71227887 0.65671535\n",
            "        nan        nan 0.7075589  0.66666405 0.71009481 0.68095992\n",
            " 0.72347472 0.66539495        nan        nan 0.7283693  0.66811922\n",
            " 0.71969724 0.67190653 0.73994516 0.67408438        nan        nan\n",
            " 0.72728628 0.66521968 0.70938196 0.69037988 0.69454654 0.68005707\n",
            "        nan        nan 0.70974068 0.66051282 0.72674477 0.66486097\n",
            " 0.72113865 0.65924306        nan        nan 0.71316796 0.67101253\n",
            " 0.72367456 0.70051039 0.73633671 0.67282838        nan        nan\n",
            " 0.72475627 0.68640191 0.73362293 0.6673972  0.72204478 0.67806268\n",
            "        nan        nan 0.71642457 0.70287234 0.73978136 0.6755235\n",
            " 0.73218643 0.67879386        nan        nan 0.71950428 0.67591235\n",
            " 0.74466186 0.69926586 0.73580765 0.67625174        nan        nan\n",
            " 0.72747661 0.67553398 0.72186329 0.65798608 0.73744169 0.68731884]\n",
            "  category=UserWarning,\n"
          ]
        },
        {
          "output_type": "execute_result",
          "data": {
            "text/plain": [
              "GridSearchCV(cv=10, estimator=DecisionTreeClassifier(),\n",
              "             param_grid={'criterion': ['gini', 'entropy'],\n",
              "                         'max_depth': [None, 2],\n",
              "                         'max_features': [None, 'sqrt', 'log2'],\n",
              "                         'min_samples_leaf': [10, 15, 20, 30, 50],\n",
              "                         'min_samples_split': [1, 2, 5, 10],\n",
              "                         'splitter': ['best', 'random']},\n",
              "             return_train_score=True, scoring='accuracy')"
            ]
          },
          "metadata": {},
          "execution_count": 75
        }
      ]
    },
    {
      "cell_type": "code",
      "source": [
        "print('final params', GSDT.best_params_)\n",
        "print('best_score', GSDT.best_score_)"
      ],
      "metadata": {
        "colab": {
          "base_uri": "https://localhost:8080/"
        },
        "outputId": "b4d0ff02-9ee6-4a5f-d993-b3682e025e1a",
        "id": "smoVB3tz5Y5a"
      },
      "execution_count": 76,
      "outputs": [
        {
          "output_type": "stream",
          "name": "stdout",
          "text": [
            "final params {'criterion': 'entropy', 'max_depth': None, 'max_features': None, 'min_samples_leaf': 20, 'min_samples_split': 2, 'splitter': 'best'}\n",
            "best_score 0.7833685880486515\n"
          ]
        }
      ]
    },
    {
      "cell_type": "markdown",
      "source": [
        "### 랜덤 포레스트 그리드서치"
      ],
      "metadata": {
        "id": "PqJPrZW6uVPD"
      }
    },
    {
      "cell_type": "code",
      "source": [
        "from sklearn.ensemble import RandomForestClassifier\n",
        "rf = RandomForestClassifier()"
      ],
      "metadata": {
        "id": "Eh16KLOKuU5v"
      },
      "execution_count": 77,
      "outputs": []
    },
    {
      "cell_type": "code",
      "source": [
        "paramaters = {'criterion':['gini','entropy'],\n",
        "              'n_estimators':[50, 100, 150],\n",
        "              'min_samples_split':[2,5,10,15], \n",
        "              'max_depth':[None,2], \n",
        "              'min_samples_leaf':[1,3,10,15], \n",
        "              'max_features':[None,'sqrt','log2']}"
      ],
      "metadata": {
        "id": "-f1Eh5FoutHU"
      },
      "execution_count": 78,
      "outputs": []
    },
    {
      "cell_type": "markdown",
      "source": [
        "scoring = 'accuracy'"
      ],
      "metadata": {
        "id": "heH9mLEi3NbA"
      }
    },
    {
      "cell_type": "code",
      "source": [
        "GSRF = GridSearchCV(rf, paramaters, cv = 5, scoring = \"accuracy\")\n",
        "GSRF.fit(x_train, y_train)"
      ],
      "metadata": {
        "colab": {
          "base_uri": "https://localhost:8080/"
        },
        "id": "MqoX2xKmutCk",
        "outputId": "5291b536-3909-4bc6-ded4-2579c20cc922"
      },
      "execution_count": 80,
      "outputs": [
        {
          "output_type": "execute_result",
          "data": {
            "text/plain": [
              "GridSearchCV(cv=5, estimator=RandomForestClassifier(),\n",
              "             param_grid={'criterion': ['gini', 'entropy'],\n",
              "                         'max_depth': [None, 2],\n",
              "                         'max_features': [None, 'sqrt', 'log2'],\n",
              "                         'min_samples_leaf': [1, 3, 10, 15],\n",
              "                         'min_samples_split': [2, 5, 10, 15],\n",
              "                         'n_estimators': [50, 100, 150]},\n",
              "             scoring='accuracy')"
            ]
          },
          "metadata": {},
          "execution_count": 80
        }
      ]
    },
    {
      "cell_type": "code",
      "source": [
        "print('final params', GSRF.best_params_)\n",
        "print('best score', GSRF.best_score_)"
      ],
      "metadata": {
        "colab": {
          "base_uri": "https://localhost:8080/"
        },
        "id": "enbZK7unus7m",
        "outputId": "ed300f42-3b0c-42a1-a776-7882a153fa0d"
      },
      "execution_count": 81,
      "outputs": [
        {
          "output_type": "stream",
          "name": "stdout",
          "text": [
            "final params {'criterion': 'gini', 'max_depth': None, 'max_features': 'log2', 'min_samples_leaf': 1, 'min_samples_split': 5, 'n_estimators': 50}\n",
            "best score 0.7883246701319473\n"
          ]
        }
      ]
    },
    {
      "cell_type": "markdown",
      "source": [
        "scoring = 'roc_auc'"
      ],
      "metadata": {
        "id": "_VJzdKRY3azs"
      }
    },
    {
      "cell_type": "code",
      "source": [
        "GSRF = GridSearchCV(rf, paramaters, cv = 5, scoring = \"roc_auc\")\n",
        "GSRF.fit(x_train, y_train)"
      ],
      "metadata": {
        "colab": {
          "base_uri": "https://localhost:8080/"
        },
        "id": "4VpO96Av9naN",
        "outputId": "6d97d8d8-91c3-4f0f-a3cd-395292ae095b"
      },
      "execution_count": 83,
      "outputs": [
        {
          "output_type": "execute_result",
          "data": {
            "text/plain": [
              "GridSearchCV(cv=5, estimator=RandomForestClassifier(),\n",
              "             param_grid={'criterion': ['gini', 'entropy'],\n",
              "                         'max_depth': [None, 2],\n",
              "                         'max_features': [None, 'sqrt', 'log2'],\n",
              "                         'min_samples_leaf': [1, 3, 10, 15],\n",
              "                         'min_samples_split': [2, 5, 10, 15],\n",
              "                         'n_estimators': [50, 100, 150]},\n",
              "             scoring='roc_auc')"
            ]
          },
          "metadata": {},
          "execution_count": 83
        }
      ]
    },
    {
      "cell_type": "code",
      "source": [
        "print('final params', GSRF.best_params_)\n",
        "print('best score', GSRF.best_score_)"
      ],
      "metadata": {
        "colab": {
          "base_uri": "https://localhost:8080/"
        },
        "id": "-5HXJP9swpZw",
        "outputId": "04af84b0-2033-45f5-dbee-1dc11065c6f9"
      },
      "execution_count": 84,
      "outputs": [
        {
          "output_type": "stream",
          "name": "stdout",
          "text": [
            "final params {'criterion': 'entropy', 'max_depth': None, 'max_features': None, 'min_samples_leaf': 15, 'min_samples_split': 15, 'n_estimators': 100}\n",
            "best score 0.8473978029339786\n"
          ]
        }
      ]
    }
  ]
}